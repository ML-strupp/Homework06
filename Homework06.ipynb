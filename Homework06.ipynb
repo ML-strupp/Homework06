{
 "cells": [
  {
   "cell_type": "markdown",
   "metadata": {
    "id": "QshK8s21WBrf"
   },
   "source": [
    "# Homework06\n",
    "\n",
    "Exercises to practice pandas, data analysis and regression\n",
    "\n",
    "## Goals\n",
    "\n",
    "- Understand the effects of pre-processing data\n",
    "- Get familiar with the ML flow: encode -> normalize -> train -> evaluate\n",
    "- Understand the difference between regression and classification tasks\n",
    "- Build an intuition for different regression models"
   ]
  },
  {
   "cell_type": "markdown",
   "metadata": {
    "id": "7Hf8SXUwWOho"
   },
   "source": [
    "### Setup\n",
    "\n",
    "Run the following 2 cells to import all necessary libraries and helpers for this homework."
   ]
  },
  {
   "cell_type": "code",
   "execution_count": 1,
   "metadata": {},
   "outputs": [],
   "source": [
    "!wget -q https://github.com/PSAM-5020-2025S-A/5020-utils/raw/main/src/data_utils.py"
   ]
  },
  {
   "cell_type": "code",
   "execution_count": 2,
   "metadata": {},
   "outputs": [],
   "source": [
    "import matplotlib.pyplot as plt\n",
    "import pandas as pd\n",
    "\n",
    "from sklearn.preprocessing import OrdinalEncoder\n",
    "\n",
    "from data_utils import object_from_json_url  # Function to load JSON data from a URL\n",
    "from data_utils import StandardScaler        # Class to standardize features by removing the mean and scaling to unit variance\n",
    "from data_utils import LinearRegression, SGDRegressor  # Classes for linear regression and stochastic gradient descent regression models\n",
    "from data_utils import regression_error      # Function to calculate regression error metrics"
   ]
  },
  {
   "cell_type": "markdown",
   "metadata": {},
   "source": [
    "### Load Dataset\n",
    "\n",
    "Let's load up the full [ANSUR](https://www.openlab.psu.edu/ansur2/) dataset that we looked at briefly in [Week 02](https://github.com/DM-GY-9103-2024F-H/WK02).\n",
    "\n",
    "This is the dataset that has anthropometric information about U.S. Army personnel."
   ]
  },
  {
   "cell_type": "code",
   "execution_count": 3,
   "metadata": {},
   "outputs": [
    {
     "data": {
      "text/plain": [
       "[{'age': 18,\n",
       "  'gender': 'F',\n",
       "  'height': 66,\n",
       "  'weight': 135,\n",
       "  'span': 1699,\n",
       "  'stature': 1645,\n",
       "  'ear': {'breadth': 30, 'length': 61, 'protrusion': 20},\n",
       "  'foot': {'breadth': 97, 'length': 243},\n",
       "  'hand': {'breadth': 78, 'length': 182, 'palm': 108},\n",
       "  'head': {'height': 243, 'circumference': 557}},\n",
       " {'age': 30,\n",
       "  'gender': 'M',\n",
       "  'height': 68,\n",
       "  'weight': 207,\n",
       "  'span': 1749,\n",
       "  'stature': 1715,\n",
       "  'ear': {'breadth': 35, 'length': 63, 'protrusion': 17},\n",
       "  'foot': {'breadth': 100, 'length': 252},\n",
       "  'hand': {'breadth': 87, 'length': 184, 'palm': 114},\n",
       "  'head': {'height': 238, 'circumference': 560}}]"
      ]
     },
     "execution_count": 3,
     "metadata": {},
     "output_type": "execute_result"
    }
   ],
   "source": [
    "# Load Dataset\n",
    "ANSUR_FILE = \"https://raw.githubusercontent.com/PSAM-5020-2025S-A/5020-utils/main/datasets/json/ansur.json\"\n",
    "ansur_data = object_from_json_url(ANSUR_FILE)\n",
    "\n",
    "# Look at first 2 records\n",
    "ansur_data[:2]"
   ]
  },
  {
   "cell_type": "markdown",
   "metadata": {},
   "source": [
    "#### Nested data\n",
    "\n",
    "This is that *nested* dataset from Week 02.\n",
    "\n",
    "# 🤔\n",
    "\n",
    "Let's load it into a `DataFrame` to see what happens."
   ]
  },
  {
   "cell_type": "code",
   "execution_count": 4,
   "metadata": {},
   "outputs": [
    {
     "data": {
      "text/html": [
       "<div>\n",
       "<style scoped>\n",
       "    .dataframe tbody tr th:only-of-type {\n",
       "        vertical-align: middle;\n",
       "    }\n",
       "\n",
       "    .dataframe tbody tr th {\n",
       "        vertical-align: top;\n",
       "    }\n",
       "\n",
       "    .dataframe thead th {\n",
       "        text-align: right;\n",
       "    }\n",
       "</style>\n",
       "<table border=\"1\" class=\"dataframe\">\n",
       "  <thead>\n",
       "    <tr style=\"text-align: right;\">\n",
       "      <th></th>\n",
       "      <th>age</th>\n",
       "      <th>gender</th>\n",
       "      <th>height</th>\n",
       "      <th>weight</th>\n",
       "      <th>span</th>\n",
       "      <th>stature</th>\n",
       "      <th>ear</th>\n",
       "      <th>foot</th>\n",
       "      <th>hand</th>\n",
       "      <th>head</th>\n",
       "    </tr>\n",
       "  </thead>\n",
       "  <tbody>\n",
       "    <tr>\n",
       "      <th>0</th>\n",
       "      <td>18</td>\n",
       "      <td>F</td>\n",
       "      <td>66</td>\n",
       "      <td>135</td>\n",
       "      <td>1699</td>\n",
       "      <td>1645</td>\n",
       "      <td>{'breadth': 30, 'length': 61, 'protrusion': 20}</td>\n",
       "      <td>{'breadth': 97, 'length': 243}</td>\n",
       "      <td>{'breadth': 78, 'length': 182, 'palm': 108}</td>\n",
       "      <td>{'height': 243, 'circumference': 557}</td>\n",
       "    </tr>\n",
       "    <tr>\n",
       "      <th>1</th>\n",
       "      <td>30</td>\n",
       "      <td>M</td>\n",
       "      <td>68</td>\n",
       "      <td>207</td>\n",
       "      <td>1749</td>\n",
       "      <td>1715</td>\n",
       "      <td>{'breadth': 35, 'length': 63, 'protrusion': 17}</td>\n",
       "      <td>{'breadth': 100, 'length': 252}</td>\n",
       "      <td>{'breadth': 87, 'length': 184, 'palm': 114}</td>\n",
       "      <td>{'height': 238, 'circumference': 560}</td>\n",
       "    </tr>\n",
       "    <tr>\n",
       "      <th>2</th>\n",
       "      <td>27</td>\n",
       "      <td>M</td>\n",
       "      <td>67</td>\n",
       "      <td>121</td>\n",
       "      <td>1684</td>\n",
       "      <td>1657</td>\n",
       "      <td>{'breadth': 36, 'length': 59, 'protrusion': 24}</td>\n",
       "      <td>{'breadth': 92, 'length': 251}</td>\n",
       "      <td>{'breadth': 84, 'length': 180, 'palm': 103}</td>\n",
       "      <td>{'height': 239, 'circumference': 516}</td>\n",
       "    </tr>\n",
       "    <tr>\n",
       "      <th>3</th>\n",
       "      <td>20</td>\n",
       "      <td>M</td>\n",
       "      <td>73</td>\n",
       "      <td>185</td>\n",
       "      <td>1878</td>\n",
       "      <td>1828</td>\n",
       "      <td>{'breadth': 36, 'length': 60, 'protrusion': 21}</td>\n",
       "      <td>{'breadth': 104, 'length': 280}</td>\n",
       "      <td>{'breadth': 95, 'length': 201, 'palm': 124}</td>\n",
       "      <td>{'height': 270, 'circumference': 582}</td>\n",
       "    </tr>\n",
       "    <tr>\n",
       "      <th>4</th>\n",
       "      <td>33</td>\n",
       "      <td>M</td>\n",
       "      <td>76</td>\n",
       "      <td>150</td>\n",
       "      <td>1977</td>\n",
       "      <td>1883</td>\n",
       "      <td>{'breadth': 39, 'length': 65, 'protrusion': 27}</td>\n",
       "      <td>{'breadth': 101, 'length': 271}</td>\n",
       "      <td>{'breadth': 90, 'length': 194, 'palm': 113}</td>\n",
       "      <td>{'height': 254, 'circumference': 559}</td>\n",
       "    </tr>\n",
       "  </tbody>\n",
       "</table>\n",
       "</div>"
      ],
      "text/plain": [
       "   age gender  height  weight  span  stature  \\\n",
       "0   18      F      66     135  1699     1645   \n",
       "1   30      M      68     207  1749     1715   \n",
       "2   27      M      67     121  1684     1657   \n",
       "3   20      M      73     185  1878     1828   \n",
       "4   33      M      76     150  1977     1883   \n",
       "\n",
       "                                               ear  \\\n",
       "0  {'breadth': 30, 'length': 61, 'protrusion': 20}   \n",
       "1  {'breadth': 35, 'length': 63, 'protrusion': 17}   \n",
       "2  {'breadth': 36, 'length': 59, 'protrusion': 24}   \n",
       "3  {'breadth': 36, 'length': 60, 'protrusion': 21}   \n",
       "4  {'breadth': 39, 'length': 65, 'protrusion': 27}   \n",
       "\n",
       "                              foot  \\\n",
       "0   {'breadth': 97, 'length': 243}   \n",
       "1  {'breadth': 100, 'length': 252}   \n",
       "2   {'breadth': 92, 'length': 251}   \n",
       "3  {'breadth': 104, 'length': 280}   \n",
       "4  {'breadth': 101, 'length': 271}   \n",
       "\n",
       "                                          hand  \\\n",
       "0  {'breadth': 78, 'length': 182, 'palm': 108}   \n",
       "1  {'breadth': 87, 'length': 184, 'palm': 114}   \n",
       "2  {'breadth': 84, 'length': 180, 'palm': 103}   \n",
       "3  {'breadth': 95, 'length': 201, 'palm': 124}   \n",
       "4  {'breadth': 90, 'length': 194, 'palm': 113}   \n",
       "\n",
       "                                    head  \n",
       "0  {'height': 243, 'circumference': 557}  \n",
       "1  {'height': 238, 'circumference': 560}  \n",
       "2  {'height': 239, 'circumference': 516}  \n",
       "3  {'height': 270, 'circumference': 582}  \n",
       "4  {'height': 254, 'circumference': 559}  "
      ]
     },
     "execution_count": 4,
     "metadata": {},
     "output_type": "execute_result"
    }
   ],
   "source": [
    "# Read into DataFrame\n",
    "ansur_df = pd.DataFrame.from_records(ansur_data)\n",
    "ansur_df.head()"
   ]
  },
  {
   "cell_type": "markdown",
   "metadata": {},
   "source": [
    "\n",
    "# 😓🙄\n",
    "\n",
    "That didn't work too well. We ended up with objects in our columns.\n",
    "\n",
    "Luckily, our `DataFrame` library has a function called [`json_normalize()`](https://pandas.pydata.org/pandas-docs/stable/reference/api/pandas.json_normalize.html) that can help."
   ]
  },
  {
   "cell_type": "code",
   "execution_count": 5,
   "metadata": {},
   "outputs": [
    {
     "data": {
      "text/html": [
       "<div>\n",
       "<style scoped>\n",
       "    .dataframe tbody tr th:only-of-type {\n",
       "        vertical-align: middle;\n",
       "    }\n",
       "\n",
       "    .dataframe tbody tr th {\n",
       "        vertical-align: top;\n",
       "    }\n",
       "\n",
       "    .dataframe thead th {\n",
       "        text-align: right;\n",
       "    }\n",
       "</style>\n",
       "<table border=\"1\" class=\"dataframe\">\n",
       "  <thead>\n",
       "    <tr style=\"text-align: right;\">\n",
       "      <th></th>\n",
       "      <th>age</th>\n",
       "      <th>gender</th>\n",
       "      <th>height</th>\n",
       "      <th>weight</th>\n",
       "      <th>span</th>\n",
       "      <th>stature</th>\n",
       "      <th>ear.breadth</th>\n",
       "      <th>ear.length</th>\n",
       "      <th>ear.protrusion</th>\n",
       "      <th>foot.breadth</th>\n",
       "      <th>foot.length</th>\n",
       "      <th>hand.breadth</th>\n",
       "      <th>hand.length</th>\n",
       "      <th>hand.palm</th>\n",
       "      <th>head.height</th>\n",
       "      <th>head.circumference</th>\n",
       "    </tr>\n",
       "  </thead>\n",
       "  <tbody>\n",
       "    <tr>\n",
       "      <th>0</th>\n",
       "      <td>18</td>\n",
       "      <td>F</td>\n",
       "      <td>66</td>\n",
       "      <td>135</td>\n",
       "      <td>1699</td>\n",
       "      <td>1645</td>\n",
       "      <td>30</td>\n",
       "      <td>61</td>\n",
       "      <td>20</td>\n",
       "      <td>97</td>\n",
       "      <td>243</td>\n",
       "      <td>78</td>\n",
       "      <td>182</td>\n",
       "      <td>108</td>\n",
       "      <td>243</td>\n",
       "      <td>557</td>\n",
       "    </tr>\n",
       "    <tr>\n",
       "      <th>1</th>\n",
       "      <td>30</td>\n",
       "      <td>M</td>\n",
       "      <td>68</td>\n",
       "      <td>207</td>\n",
       "      <td>1749</td>\n",
       "      <td>1715</td>\n",
       "      <td>35</td>\n",
       "      <td>63</td>\n",
       "      <td>17</td>\n",
       "      <td>100</td>\n",
       "      <td>252</td>\n",
       "      <td>87</td>\n",
       "      <td>184</td>\n",
       "      <td>114</td>\n",
       "      <td>238</td>\n",
       "      <td>560</td>\n",
       "    </tr>\n",
       "    <tr>\n",
       "      <th>2</th>\n",
       "      <td>27</td>\n",
       "      <td>M</td>\n",
       "      <td>67</td>\n",
       "      <td>121</td>\n",
       "      <td>1684</td>\n",
       "      <td>1657</td>\n",
       "      <td>36</td>\n",
       "      <td>59</td>\n",
       "      <td>24</td>\n",
       "      <td>92</td>\n",
       "      <td>251</td>\n",
       "      <td>84</td>\n",
       "      <td>180</td>\n",
       "      <td>103</td>\n",
       "      <td>239</td>\n",
       "      <td>516</td>\n",
       "    </tr>\n",
       "    <tr>\n",
       "      <th>3</th>\n",
       "      <td>20</td>\n",
       "      <td>M</td>\n",
       "      <td>73</td>\n",
       "      <td>185</td>\n",
       "      <td>1878</td>\n",
       "      <td>1828</td>\n",
       "      <td>36</td>\n",
       "      <td>60</td>\n",
       "      <td>21</td>\n",
       "      <td>104</td>\n",
       "      <td>280</td>\n",
       "      <td>95</td>\n",
       "      <td>201</td>\n",
       "      <td>124</td>\n",
       "      <td>270</td>\n",
       "      <td>582</td>\n",
       "    </tr>\n",
       "    <tr>\n",
       "      <th>4</th>\n",
       "      <td>33</td>\n",
       "      <td>M</td>\n",
       "      <td>76</td>\n",
       "      <td>150</td>\n",
       "      <td>1977</td>\n",
       "      <td>1883</td>\n",
       "      <td>39</td>\n",
       "      <td>65</td>\n",
       "      <td>27</td>\n",
       "      <td>101</td>\n",
       "      <td>271</td>\n",
       "      <td>90</td>\n",
       "      <td>194</td>\n",
       "      <td>113</td>\n",
       "      <td>254</td>\n",
       "      <td>559</td>\n",
       "    </tr>\n",
       "  </tbody>\n",
       "</table>\n",
       "</div>"
      ],
      "text/plain": [
       "   age gender  height  weight  span  stature  ear.breadth  ear.length  \\\n",
       "0   18      F      66     135  1699     1645           30          61   \n",
       "1   30      M      68     207  1749     1715           35          63   \n",
       "2   27      M      67     121  1684     1657           36          59   \n",
       "3   20      M      73     185  1878     1828           36          60   \n",
       "4   33      M      76     150  1977     1883           39          65   \n",
       "\n",
       "   ear.protrusion  foot.breadth  foot.length  hand.breadth  hand.length  \\\n",
       "0              20            97          243            78          182   \n",
       "1              17           100          252            87          184   \n",
       "2              24            92          251            84          180   \n",
       "3              21           104          280            95          201   \n",
       "4              27           101          271            90          194   \n",
       "\n",
       "   hand.palm  head.height  head.circumference  \n",
       "0        108          243                 557  \n",
       "1        114          238                 560  \n",
       "2        103          239                 516  \n",
       "3        124          270                 582  \n",
       "4        113          254                 559  "
      ]
     },
     "execution_count": 5,
     "metadata": {},
     "output_type": "execute_result"
    }
   ],
   "source": [
    "# Read into DataFrame\n",
    "ansur_df = pd.json_normalize(ansur_data)\n",
    "ansur_df.head()"
   ]
  },
  {
   "cell_type": "markdown",
   "metadata": {},
   "source": [
    "Much better. `DataFrames` are magic.\n",
    "\n",
    "#### Data Exploration\n",
    "\n",
    "Before we start creating models, let's do a little bit of data analysis and get a feeling for the shapes, distributions and relationships of our data.\n",
    "\n",
    "1. Print `min`, `max` and `average` values for all of the features.\n",
    "2. Print `covariance` tables for `age`, `ear.length` and `head.circumference`.\n",
    "3. Plot `age`, `ear.length` and `head.circumference` versus the $1$ *feature* that is most correlated to each of them.\n",
    "\n",
    "Don't forget to *encode* and *normalize* the data."
   ]
  },
  {
   "cell_type": "code",
   "execution_count": 13,
   "metadata": {
    "tags": [
     "work_cell"
    ]
   },
   "outputs": [
    {
     "name": "stdout",
     "output_type": "stream",
     "text": [
      "                          age  ear.length  head.circumference\n",
      "age                 75.012481   12.209246            2.230690\n",
      "ear.length          12.209246   23.299281           25.129974\n",
      "head.circumference   2.230690   25.129974          336.458988\n"
     ]
    },
    {
     "data": {
      "image/png": "[encoded data removed]",
      "text/plain": [
       "<Figure size 1000x800 with 2 Axes>"
      ]
     },
     "metadata": {},
     "output_type": "display_data"
    }
   ],
   "source": [
    "# Work on Data Exploration here\n",
    "\n",
    "### Encode non-numerical features\n",
    "\n",
    "## 1. Print min, max, avg\n",
    "ansur_df.describe()\n",
    "\n",
    "### Normalize all data\n",
    "\n",
    "## 2. Print Covariances\n",
    "# Calculate covariance matrix\n",
    "cov_matrix = ansur_df[['age', 'ear.length', 'head.circumference']].cov()\n",
    "\n",
    "print(cov_matrix)\n",
    "\n",
    "## 3. Plot features most correlated to age, ear length and head circumference\n",
    "# Plot correlation matrix\n",
    "plt.figure(figsize=(10, 8))\n",
    "# Encode 'gender' column\n",
    "encoder = OrdinalEncoder()\n",
    "ansur_df['gender'] = encoder.fit_transform(ansur_df[['gender']])\n",
    "# 0 is female 1 is male\n",
    "\n",
    "# # Plot correlation matrix\n",
    "plt.matshow(ansur_df.corr(), fignum=1) # this will plot the correlation matrix, and fignum=1 will make sure it is plotted in the first figure\n",
    "plt.colorbar() # this will add a colorbar to the plot, and a colorbar is a good way to show the scale of the correlation values\n",
    "plt.xticks(range(len(ansur_df.columns)), ansur_df.columns, rotation=45) # this will set the x-ticks to the column names, and rotate them by 45 degrees for better readability\n",
    "plt.yticks(range(len(ansur_df.columns)), ansur_df.columns) # this will set the y-ticks to the column names\n",
    "plt.title('Correlation Matrix') # this will set the title of the plot\n",
    "plt.show() # this will show the plot\n"
   ]
  },
  {
   "cell_type": "markdown",
   "metadata": {},
   "source": [
    "### Interpretation\n",
    "\n",
    "<span style=\"color:hotpink;\">\n",
    "Does anything stand out about these graphs? Or the correlations?<br>\n",
    "Are correlations symmetric? Does the feature most correlated to ear length also have ear length as its most correlated pair?\n",
    "</span>"
   ]
  },
  {
   "cell_type": "markdown",
   "metadata": {
    "tags": [
     "work_cell"
    ]
   },
   "source": [
    "<span style=\"color:hotpink;\">EDIT THIS CELL WITH ANSWER</span>\n",
    "\n",
    "Correlations appear to be symmetric. Looks like stature and height are highly correlated. And all of the ear stats seem to change in size at the same rate, which is inverse to basically everything else. "
   ]
  },
  {
   "cell_type": "markdown",
   "metadata": {},
   "source": [
    "### Regression\n",
    "\n",
    "Now, we want to create a regression model to predict `head.circumference` from the data.\n",
    "\n",
    "From our [Week 06](https://github.com/PSAM-5020-2025S-A/WK06) notebook, we can create a regression model by following these steps:\n",
    "\n",
    "1. Load dataset (done! 🎉)\n",
    "2. Encode label features as numbers (done! ⚡️)\n",
    "3. Normalize the data (done! 🍾)\n",
    "4. Separate the outcome variable and the input features\n",
    "5. Create a regression model using all features\n",
    "6. Run model on training data and measure error\n",
    "7. Plot predictions and interpret results\n",
    "8. Run model on test data, measure error, plot predictions, interpret results"
   ]
  },
  {
   "cell_type": "code",
   "execution_count": null,
   "metadata": {
    "tags": [
     "work_cell"
    ]
   },
   "outputs": [],
   "source": [
    "# Work on Regression Model here\n",
    "\n",
    "## Separate outcome variable and input features\n",
    "head_circumference = ansur_df['head.circumference']\n",
    "weight = ansur_df['weight']\n",
    "\n",
    "## Create a regression model\n",
    "head_circumference_model = LinearRegression()\n",
    "head_circumference_model.fit(head_circumference, weight)\n",
    "head_circumference_model.coef_, head_circumference_model.intercept_\n",
    "\n",
    "\n",
    "## Measure error on training data\n",
    "\n",
    "\n",
    "## Plot predictions and interpret results"
   ]
  },
  {
   "cell_type": "code",
   "execution_count": null,
   "metadata": {},
   "outputs": [],
   "source": [
    "## Load Test Data\n",
    "ANSUR_TEST_FILE = \"https://raw.githubusercontent.com/PSAM-5020-2025S-A/5020-utils/main/datasets/json/ansur-test.json\"\n",
    "\n",
    "ansur_test_data = object_from_json_url(ANSUR_TEST_FILE)\n",
    "ansur_test_df = pd.json_normalize(ansur_test_data)\n",
    "\n",
    "ansur_test_encoded_df = ansur_test_df.copy()\n",
    "\n",
    "g_vals = ansur_encoder.transform(ansur_test_df[[\"gender\"]].values)\n",
    "ansur_test_encoded_df[[\"gender\"]] = g_vals\n",
    "\n",
    "ansur_test_scaled_df = ansur_scaler.transform(ansur_test_encoded_df)"
   ]
  },
  {
   "cell_type": "code",
   "execution_count": null,
   "metadata": {
    "tags": [
     "work_cell"
    ]
   },
   "outputs": [],
   "source": [
    "## Run model on test data\n",
    "\n",
    "## Measure error on test data\n",
    "\n",
    "## Plot predictions and interpret results"
   ]
  },
  {
   "cell_type": "markdown",
   "metadata": {},
   "source": [
    "### Interpretation\n",
    "\n",
    "<span style=\"color:hotpink;\">\n",
    "How well does your model perform?<br>\n",
    "How could you improve it?<br>\n",
    "Are there ranges of circumferences that don't get predicted well?\n",
    "</span>"
   ]
  },
  {
   "cell_type": "markdown",
   "metadata": {
    "tags": [
     "work_cell"
    ]
   },
   "source": [
    "<span style=\"color:hotpink;\">EDIT THIS CELL WITH ANSWER</span>"
   ]
  }
 ],
 "metadata": {
  "colab": {
   "authorship_tag": "ABX9TyPxe2qYxIG7EblrvD1C4Pmv",
   "provenance": []
  },
  "kernelspec": {
   "display_name": "Python 3",
   "language": "python",
   "name": "python3"
  },
  "language_info": {
   "codemirror_mode": {
    "name": "ipython",
    "version": 3
   },
   "file_extension": ".py",
   "mimetype": "text/x-python",
   "name": "python",
   "nbconvert_exporter": "python",
   "pygments_lexer": "ipython3",
   "version": "3.10.16"
  }
 },
 "nbformat": 4,
 "nbformat_minor": 0
}
